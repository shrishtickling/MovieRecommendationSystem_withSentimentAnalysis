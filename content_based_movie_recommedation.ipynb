{
  "nbformat": 4,
  "nbformat_minor": 0,
  "metadata": {
    "colab": {
      "name": "content_based_movie_recommedation.ipynb",
      "provenance": [],
      "collapsed_sections": [],
      "toc_visible": true
    },
    "kernelspec": {
      "display_name": "Python 3",
      "name": "python3"
    },
    "language_info": {
      "name": "python"
    }
  },
  "cells": [
    {
      "cell_type": "code",
      "metadata": {
        "colab": {
          "resources": {
            "http://localhost:8080/nbextensions/google.colab/files.js": {
              "data": "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",
              "ok": true,
              "headers": [
                [
                  "content-type",
                  "application/javascript"
                ]
              ],
              "status": 200,
              "status_text": ""
            }
          },
          "base_uri": "https://localhost:8080/",
          "height": 91
        },
        "id": "gq4bdcHoCSe0",
        "outputId": "90271ba6-854a-4aba-9fef-7417ca601f1c"
      },
      "source": [
        "from google.colab import files\n",
        "files.upload()"
      ],
      "execution_count": null,
      "outputs": [
        {
          "output_type": "display_data",
          "data": {
            "text/html": [
              "\n",
              "     <input type=\"file\" id=\"files-072ccb58-e668-4d42-8a6c-98cd1b8f42fd\" name=\"files[]\" multiple disabled\n",
              "        style=\"border:none\" />\n",
              "     <output id=\"result-072ccb58-e668-4d42-8a6c-98cd1b8f42fd\">\n",
              "      Upload widget is only available when the cell has been executed in the\n",
              "      current browser session. Please rerun this cell to enable.\n",
              "      </output>\n",
              "      <script src=\"/nbextensions/google.colab/files.js\"></script> "
            ],
            "text/plain": [
              "<IPython.core.display.HTML object>"
            ]
          },
          "metadata": {
            "tags": []
          }
        },
        {
          "output_type": "stream",
          "text": [
            "Saving kaggle.json to kaggle.json\n"
          ],
          "name": "stdout"
        },
        {
          "output_type": "execute_result",
          "data": {
            "text/plain": [
              "{'kaggle.json': b'{\"username\":\"jashwanthbj\",\"key\":\"154934b3a02f4381d6b6722db0030975\"}'}"
            ]
          },
          "metadata": {
            "tags": []
          },
          "execution_count": 1
        }
      ]
    },
    {
      "cell_type": "code",
      "metadata": {
        "id": "uKFcQE9XCTRA"
      },
      "source": [
        "!mkdir -p ~/.kaggle\n",
        "!cp kaggle.json ~/.kaggle/\n",
        "!chmod 600 ~/.kaggle/kaggle.json"
      ],
      "execution_count": null,
      "outputs": []
    },
    {
      "cell_type": "code",
      "metadata": {
        "colab": {
          "base_uri": "https://localhost:8080/"
        },
        "id": "SHxYffStCVbk",
        "outputId": "2e03b937-fa81-429f-cc2d-3143b9b58c2d"
      },
      "source": [
        "!kaggle datasets download -d tmdb/tmdb-movie-metadata\n",
        "!kaggle datasets download -d carolzhangdc/imdb-5000-movie-dataset"
      ],
      "execution_count": null,
      "outputs": [
        {
          "output_type": "stream",
          "text": [
            "tmdb-movie-metadata.zip: Skipping, found more recently modified local copy (use --force to force download)\n",
            "Downloading imdb-5000-movie-dataset.zip to /content\n",
            "  0% 0.00/554k [00:00<?, ?B/s]\n",
            "100% 554k/554k [00:00<00:00, 62.2MB/s]\n"
          ],
          "name": "stdout"
        }
      ]
    },
    {
      "cell_type": "code",
      "metadata": {
        "colab": {
          "base_uri": "https://localhost:8080/"
        },
        "id": "0poyakV2Cb-e",
        "outputId": "c5770a9f-4d0e-417f-a84e-1cb61b273976"
      },
      "source": [
        "from zipfile import ZipFile\n",
        "file_name=\"/content/tmdb-movie-metadata.zip\"\n",
        "with ZipFile(file_name,'r') as zip:\n",
        "    zip.extractall()\n",
        "    print(\"done\")"
      ],
      "execution_count": null,
      "outputs": [
        {
          "output_type": "stream",
          "text": [
            "done\n"
          ],
          "name": "stdout"
        }
      ]
    },
    {
      "cell_type": "code",
      "metadata": {
        "id": "bCtgH4i8wZEH"
      },
      "source": [
        "import numpy as np;\n",
        "import pandas as pd\n",
        "import pickle as pkl\n",
        "df1=pd.read_csv(\"/content/tmdb_5000_credits.csv\")\n",
        "df1.head(5)\n",
        "df2=pd.read_csv(\"/content/tmdb_5000_movies.csv\")\n",
        "df2.head(5)\n",
        "df1.columns=['id', 'title', 'cast', 'crew']\n",
        "df2.merge(df1,on='id')\n",
        "c=df2['vote_average'].mean()\n",
        "m=df2['vote_count'].quantile(0.9)\n",
        "lists_movies = df2.copy().loc[df2['vote_count'] >= m]\n",
        "def weighted_rating(x, m=m, c=c):\n",
        "    v = x['vote_count']\n",
        "    R = x['vote_average']\n",
        "    return (v/(v+m) * R) + (m/(m+v) * c)\n",
        "lists_movies['score'] = lists_movies.apply(weighted_rating, axis=1)\n",
        "lists_movies.head(3)\n",
        "df2= lists_movies.sort_values('score', ascending=False)\n",
        "lists_movies[['title', 'vote_count', 'vote_average', 'score']].head(10)\n",
        "df2=df2.sort_values('popularity', ascending=False)\n",
        "df2=df2.sort_values('budget', ascending=False)\n",
        "df2=df2.sort_values('revenue', ascending=False)\n"
      ],
      "execution_count": null,
      "outputs": []
    },
    {
      "cell_type": "code",
      "metadata": {
        "id": "zk_W6FQXj7zr"
      },
      "source": [
        ""
      ],
      "execution_count": null,
      "outputs": []
    },
    {
      "cell_type": "code",
      "metadata": {
        "id": "ngwR__M5ERIw"
      },
      "source": [
        "import numpy as np;\n",
        "import pandas as pd\n",
        "df1=pd.read_csv(\"/content/tmdb_5000_credits.csv\")\n",
        "df1.head(5)\n",
        "df2=pd.read_csv(\"/content/tmdb_5000_movies.csv\")\n",
        "df2.head(5)\n",
        "df1.columns=['id', 'title', 'cast', 'crew']\n",
        "df2=df2.merge(df1,on='id')\n",
        "df2.drop(['title_y'],axis=1,inplace=True)"
      ],
      "execution_count": null,
      "outputs": []
    },
    {
      "cell_type": "code",
      "metadata": {
        "id": "DbT5aaZhDa_1"
      },
      "source": [
        "from ast import literal_eval\n",
        "from sklearn.metrics.pairwise import cosine_similarity\n",
        "from sklearn.feature_extraction.text import CountVectorizer\n",
        "features = ['cast', 'crew', 'keywords', 'genres']\n",
        "for feature in features:\n",
        "    df2[feature] = df2[feature].apply(literal_eval)\n",
        "def get_director(x):\n",
        "    for i in x:\n",
        "        if i['job'] == 'Director':\n",
        "            return i['name']\n",
        "    return np.nan\n",
        "def get_list(x):\n",
        "    if isinstance(x, list):\n",
        "        names = [i['name'] for i in x]\n",
        "        if len(names) > 3:\n",
        "            names = names[:3]\n",
        "        return names\n",
        "    return []\n",
        "df2['director'] = df2['crew'].apply(get_director)\n",
        "features = ['cast', 'keywords', 'genres']\n",
        "for feature in features:\n",
        "    df2[feature] = df2[feature].apply(get_list)\n",
        "df2.to_csv('Main_data.csv',index=True)"
      ],
      "execution_count": null,
      "outputs": []
    },
    {
      "cell_type": "code",
      "metadata": {
        "id": "GYl5Oi4XrllU"
      },
      "source": [
        "df2=pd.read_csv(\"Main_data.csv\")\n",
        "#df2=df2.sort_values(by=['popularity'], ascending=False)\n"
      ],
      "execution_count": null,
      "outputs": []
    },
    {
      "cell_type": "code",
      "metadata": {
        "id": "ZEHiCsohrciE"
      },
      "source": [
        "df2[\"comb\"]=df2['cast']+' '+df2['director']+' '+df2['genres']+' '+df2['keywords']+' '+df2['overview']"
      ],
      "execution_count": null,
      "outputs": []
    },
    {
      "cell_type": "code",
      "metadata": {
        "id": "_1B_Koglrs6S"
      },
      "source": [
        "df2=df2.replace(np.nan,\"\")\n"
      ],
      "execution_count": null,
      "outputs": []
    },
    {
      "cell_type": "code",
      "metadata": {
        "id": "RYqpymo8rKXL"
      },
      "source": [
        "from sklearn.feature_extraction.text import CountVectorizer,TfidfVectorizer\n",
        "from sklearn.metrics.pairwise import cosine_similarity,euclidean_distances,manhattan_distances\n",
        "tfidf = TfidfVectorizer(stop_words='english')\n",
        "count_matrix = tfidf.fit_transform(df2['comb'])\n",
        "cosine_sim =  cosine_similarity(count_matrix, count_matrix)\n",
        "indices = pd.Series(df2.index, index=df2['title_x'])\n",
        "def get_recommendation(title):\n",
        "    idx=indices[title]\n",
        "    sim_scores = list(enumerate(cosine_sim[idx]))\n",
        "    sim_scores = sorted(sim_scores, key=lambda x: x[1], reverse=True)\n",
        "    sim_scores = sim_scores[1:10]\n",
        "    movie_indices = [i[0] for i in sim_scores]\n",
        "    return df2['title_x'].iloc[movie_indices]\n",
        "data=get_recommendation(\"Tenet\")"
      ],
      "execution_count": null,
      "outputs": []
    },
    {
      "cell_type": "code",
      "metadata": {
        "id": "YT08ej2a050J",
        "colab": {
          "base_uri": "https://localhost:8080/"
        },
        "outputId": "6a04a0c9-1f51-42d1-94d3-9fb94af64245"
      },
      "source": [
        "data"
      ],
      "execution_count": null,
      "outputs": [
        {
          "output_type": "execute_result",
          "data": {
            "text/plain": [
              "18              Men in Black 3\n",
              "4448              Time Changer\n",
              "1274             Just Visiting\n",
              "3        The Dark Knight Rises\n",
              "3250    Much Ado About Nothing\n",
              "914       Central Intelligence\n",
              "739          London Has Fallen\n",
              "2373                    Hamlet\n",
              "2865           Project Almanac\n",
              "Name: title_x, dtype: object"
            ]
          },
          "metadata": {
            "tags": []
          },
          "execution_count": 130
        }
      ]
    },
    {
      "cell_type": "code",
      "metadata": {
        "colab": {
          "base_uri": "https://localhost:8080/"
        },
        "id": "8CV-kctUxnui",
        "outputId": "1db66711-b488-4298-f851-51d6deb90f70"
      },
      "source": [
        "data"
      ],
      "execution_count": null,
      "outputs": [
        {
          "output_type": "execute_result",
          "data": {
            "text/plain": [
              "185    War of the Worlds\n",
              "393       102 Dalmatians\n",
              "431      Charlotte's Web\n",
              "498              Hidalgo\n",
              "565              Shrek 2\n",
              "616                Ted 2\n",
              "832    Death Becomes Her\n",
              "916         Daddy's Home\n",
              "942     The Book of Life\n",
              "Name: title_x, dtype: object"
            ]
          },
          "metadata": {
            "tags": []
          },
          "execution_count": 109
        }
      ]
    },
    {
      "cell_type": "code",
      "metadata": {
        "colab": {
          "base_uri": "https://localhost:8080/"
        },
        "id": "191ASeK5xoJa",
        "outputId": "6d357f42-d50a-4c22-db23-d54cc3d28979"
      },
      "source": [
        "data"
      ],
      "execution_count": null,
      "outputs": [
        {
          "output_type": "execute_result",
          "data": {
            "text/plain": [
              "2759                           Woo\n",
              "536              Anna and the King\n",
              "754                      Planet 51\n",
              "3940                        Oldboy\n",
              "185              War of the Worlds\n",
              "1217                          Paul\n",
              "742                  The Boxtrolls\n",
              "4014    Kevin Hart: Let Me Explain\n",
              "336      The Spiderwick Chronicles\n",
              "Name: title_x, dtype: object"
            ]
          },
          "metadata": {
            "tags": []
          },
          "execution_count": 113
        }
      ]
    },
    {
      "cell_type": "code",
      "metadata": {
        "id": "KH9JKtRzp9OA"
      },
      "source": [
        "df2=pd.read_csv(\"Main_data.csv\")\n",
        "df2.set_index('title_x', inplace=True)"
      ],
      "execution_count": null,
      "outputs": []
    },
    {
      "cell_type": "code",
      "metadata": {
        "id": "z-xQwK2YsJ-R",
        "colab": {
          "base_uri": "https://localhost:8080/"
        },
        "outputId": "5d60236a-30da-4ae6-b6cf-6e687d00f3dd"
      },
      "source": [
        "df2.columns"
      ],
      "execution_count": null,
      "outputs": [
        {
          "output_type": "execute_result",
          "data": {
            "text/plain": [
              "Index(['Unnamed: 0', 'budget', 'genres', 'homepage', 'id', 'keywords',\n",
              "       'original_language', 'original_title', 'overview', 'popularity',\n",
              "       'production_companies', 'production_countries', 'release_date',\n",
              "       'revenue', 'runtime', 'spoken_languages', 'status', 'tagline',\n",
              "       'vote_average', 'vote_count', 'cast', 'crew', 'director'],\n",
              "      dtype='object')"
            ]
          },
          "metadata": {
            "tags": []
          },
          "execution_count": 9
        }
      ]
    },
    {
      "cell_type": "code",
      "metadata": {
        "colab": {
          "base_uri": "https://localhost:8080/"
        },
        "id": "-T33TVi7rGXG",
        "outputId": "7dcc5b99-8954-430a-e0ff-a50ed624e311"
      },
      "source": [
        "!pip install tmdbv3api"
      ],
      "execution_count": null,
      "outputs": [
        {
          "output_type": "stream",
          "text": [
            "Collecting tmdbv3api\n",
            "  Downloading https://files.pythonhosted.org/packages/d9/e5/865501cd4746070930e542ae3ee574a1ffe29ccad7f273fb89440c32973e/tmdbv3api-1.7.5-py2.py3-none-any.whl\n",
            "Requirement already satisfied: requests in /usr/local/lib/python3.7/dist-packages (from tmdbv3api) (2.23.0)\n",
            "Requirement already satisfied: idna<3,>=2.5 in /usr/local/lib/python3.7/dist-packages (from requests->tmdbv3api) (2.10)\n",
            "Requirement already satisfied: chardet<4,>=3.0.2 in /usr/local/lib/python3.7/dist-packages (from requests->tmdbv3api) (3.0.4)\n",
            "Requirement already satisfied: urllib3!=1.25.0,!=1.25.1,<1.26,>=1.21.1 in /usr/local/lib/python3.7/dist-packages (from requests->tmdbv3api) (1.24.3)\n",
            "Requirement already satisfied: certifi>=2017.4.17 in /usr/local/lib/python3.7/dist-packages (from requests->tmdbv3api) (2020.12.5)\n",
            "Installing collected packages: tmdbv3api\n",
            "Successfully installed tmdbv3api-1.7.5\n"
          ],
          "name": "stdout"
        }
      ]
    },
    {
      "cell_type": "code",
      "metadata": {
        "id": "LtK7vZqKH6jX"
      },
      "source": [
        "from tmdbv3api import TMDb\n",
        "import json\n",
        "import requests\n",
        "tmdb=TMDb()\n",
        "tmdb.api_key='8b5da40bcd2b5fa4afe55c468001ad8a'\n",
        "from  tmdbv3api import Movie\n",
        "tmdb_movie=Movie()"
      ],
      "execution_count": null,
      "outputs": []
    },
    {
      "cell_type": "code",
      "metadata": {
        "id": "heAJHPMQHnji"
      },
      "source": [
        "def get_data(x):\n",
        "    data=[]\n",
        "    result=tmdb_movie.search(x)\n",
        "    movie_id=result[0].id\n",
        "    response=requests.get(\"https://api.themoviedb.org/3/movie/{}?api_key=8b5da40bcd2b5fa4afe55c468001ad8a\".format(movie_id))\n",
        "    response2=requests.get(\"https://api.themoviedb.org/3/movie/{}/credits?api_key=8b5da40bcd2b5fa4afe55c468001ad8a\".format(movie_id))\n",
        "    response3=requests.get(\"https://api.themoviedb.org/3/movie/{}/keywords?api_key=8b5da40bcd2b5fa4afe55c468001ad8a\".format(movie_id))\n",
        "    data_json=response.json()\n",
        "    data_json2=response2.json()\n",
        "    data_json3=response3.json()\n",
        "    data.append(data_json)\n",
        "    data.append(data_json2)\n",
        "    data.append(data_json3)\n",
        "    return data\n",
        "movie_data=get_data(\"Tenet\")\n",
        "def getcomb(movie_data):\n",
        "    cast_data=movie_data[1]['cast']\n",
        "    cast=[]\n",
        "    for data in cast_data:\n",
        "        cast.append(data['name'])\n",
        "    crew=movie_data[1]['crew']\n",
        "    crew\n",
        "    director=[]\n",
        "    for c in crew:\n",
        "        if c['job']=='Director':\n",
        "            director.append(c['name'])\n",
        "            break\n",
        "    genres=[]\n",
        "    for x in movie_data[0]['genres']:\n",
        "        genres.append(x['name'])\n",
        "    keywords=[]\n",
        "    for k in movie_data[2]['keywords']:\n",
        "        keywords.append(k['name'])\n",
        "    d=str(cast)+str(keywords)+str(genres)+director[0]+movie_data[0]['overview']\n",
        "    return d\n",
        "total_data=getcomb(movie_data)"
      ],
      "execution_count": null,
      "outputs": []
    },
    {
      "cell_type": "code",
      "metadata": {
        "id": "WZHnByEOL8aF",
        "colab": {
          "base_uri": "https://localhost:8080/",
          "height": 191
        },
        "outputId": "87f39068-52bf-4295-db8b-8b1ea5e1ec2b"
      },
      "source": [
        "total_data"
      ],
      "execution_count": null,
      "outputs": [
        {
          "output_type": "execute_result",
          "data": {
            "application/vnd.google.colaboratory.intrinsic+json": {
              "type": "string"
            },
            "text/plain": [
              "\"['John David Washington', 'Robert Pattinson', 'Elizabeth Debicki', 'Kenneth Branagh', 'Dimple Kapadia', 'Himesh Patel', 'Aaron Taylor-Johnson', 'Michael Caine', 'Clémence Poésy', 'Martin Donovan', 'Andrew Howard', 'Yuri Kolokolnikov', 'Mark Krenik', 'Anthony Molinari', 'Rich Ceraulo Ko', 'Denzil Smith', 'Jonathan Camp', 'Julia-Maria Arnolds', 'Laurie Shepherd', 'Wes Chatham', 'Fiona Dourif', 'Kenneth Wolf Andersen Haugen', 'Marcel Sabat', 'Marek Angelstok', 'Klaus Peeter Rüütli', 'Daniel Olesk', 'Bern Collaço', 'Ingrid Margus', 'Carina Velva', 'Glenn Lawrence', 'Katie McCabe', 'Ronald Pelin', 'Schezaad Ausman', 'Anterro Ahonen', 'Aleksei Podlesnov', 'Lisa Marie', 'Trent Buxton', 'Jess Weber', 'Jeremy Theobald', 'Jefferson Hall', 'Tom Nolan', 'Adam Cropper', 'Josh Stewart', 'Juhan Ulfsak', 'Jan Uuspõld', 'Tony Christian', 'Jack Cutmore-Scott', 'Kaspar Velberg', 'Sergo Vares', 'Rain Tolk', 'Henrik Kalmet', 'Sean Avery', 'John Orantes', 'Seb Carrington', 'Matthew Marsden']['spy', 'assassin', 'mumbai (bombay), india', 'time travel', 'arms dealer', 'espionage', 'terrorism', 'terrorist attack', 'nuclear weapons', 'terrorist plot', 'alternate timeline', 'time paradox', 'kiev russia', 'spy thriller']['Action', 'Thriller', 'Science Fiction']Christopher NolanArmed with only one word - Tenet - and fighting for the survival of the entire world, the Protagonist journeys through a twilight world of international espionage on a mission that will unfold in something beyond real time.\""
            ]
          },
          "metadata": {
            "tags": []
          },
          "execution_count": 21
        }
      ]
    },
    {
      "cell_type": "code",
      "metadata": {
        "id": "nh3H9ELwvFZf"
      },
      "source": [
        "myseries=pd.Series(data=[total_data,\"Tenet\"],index=['comb','title_x'])\n",
        "flag=0\n",
        "for i in df2['title_x']:\n",
        "    if i==\"Tenet\":\n",
        "        flag=1\n",
        "        break\n",
        "if flag==0:\n",
        "    df2=df2.append(myseries,ignore_index=True)\n",
        "df2=df2.replace(np.nan,'')"
      ],
      "execution_count": null,
      "outputs": []
    },
    {
      "cell_type": "code",
      "metadata": {
        "colab": {
          "base_uri": "https://localhost:8080/",
          "height": 191
        },
        "id": "WyUfuu6ZvhbY",
        "outputId": "39ce2cf4-5be7-4c68-f069-a4acd84f2663"
      },
      "source": [
        "df2['comb'][len(df2)-1]"
      ],
      "execution_count": null,
      "outputs": [
        {
          "output_type": "execute_result",
          "data": {
            "application/vnd.google.colaboratory.intrinsic+json": {
              "type": "string"
            },
            "text/plain": [
              "\"['John David Washington', 'Robert Pattinson', 'Elizabeth Debicki', 'Kenneth Branagh', 'Dimple Kapadia', 'Himesh Patel', 'Aaron Taylor-Johnson', 'Michael Caine', 'Clémence Poésy', 'Martin Donovan', 'Andrew Howard', 'Yuri Kolokolnikov', 'Mark Krenik', 'Anthony Molinari', 'Rich Ceraulo Ko', 'Denzil Smith', 'Jonathan Camp', 'Julia-Maria Arnolds', 'Laurie Shepherd', 'Wes Chatham', 'Fiona Dourif', 'Kenneth Wolf Andersen Haugen', 'Marcel Sabat', 'Marek Angelstok', 'Klaus Peeter Rüütli', 'Daniel Olesk', 'Bern Collaço', 'Ingrid Margus', 'Carina Velva', 'Glenn Lawrence', 'Katie McCabe', 'Ronald Pelin', 'Schezaad Ausman', 'Anterro Ahonen', 'Aleksei Podlesnov', 'Lisa Marie', 'Trent Buxton', 'Jess Weber', 'Jeremy Theobald', 'Jefferson Hall', 'Tom Nolan', 'Adam Cropper', 'Josh Stewart', 'Juhan Ulfsak', 'Jan Uuspõld', 'Tony Christian', 'Jack Cutmore-Scott', 'Kaspar Velberg', 'Sergo Vares', 'Rain Tolk', 'Henrik Kalmet', 'Sean Avery', 'John Orantes', 'Seb Carrington', 'Matthew Marsden']['spy', 'assassin', 'mumbai (bombay), india', 'time travel', 'arms dealer', 'espionage', 'terrorism', 'terrorist attack', 'nuclear weapons', 'terrorist plot', 'alternate timeline', 'time paradox', 'kiev russia', 'spy thriller']['Action', 'Thriller', 'Science Fiction']Christopher NolanArmed with only one word - Tenet - and fighting for the survival of the entire world, the Protagonist journeys through a twilight world of international espionage on a mission that will unfold in something beyond real time.\""
            ]
          },
          "metadata": {
            "tags": []
          },
          "execution_count": 23
        }
      ]
    },
    {
      "cell_type": "code",
      "metadata": {
        "id": "ZKd8nsJGUS5D"
      },
      "source": [
        "\n",
        "\n",
        "from sklearn.feature_extraction.text import CountVectorizer,TfidfVectorizer\n",
        "from sklearn.metrics.pairwise import linear_kernel\n",
        "\n",
        "\n",
        "def get_data(x):\n",
        "    data=[]\n",
        "    result=tmdb_movie.search(x)\n",
        "    movie_id=result[0].id\n",
        "    response=requests.get(\"https://api.themoviedb.org/3/movie/{}?api_key=your-api\".format(movie_id))\n",
        "    response2=requests.get(\"https://api.themoviedb.org/3/movie/{}/credits?api_key=your-api\".format(movie_id))\n",
        "    response3=requests.get(\"https://api.themoviedb.org/3/movie/{}/keywords?api_key=your-api\".format(movie_id))\n",
        "    data_json=response.json()\n",
        "    data_json2=response2.json()\n",
        "    data_json3=response3.json()\n",
        "    data.append(data_json)\n",
        "    data.append(data_json2)\n",
        "    data.append(data_json3)\n",
        "    return data\n",
        "\n",
        "def getcomb(movie_data):\n",
        "    cast_data=movie_data[1]['cast']\n",
        "    cast_data\n",
        "    cast=[]\n",
        "    for data in cast_data:\n",
        "        cast.append(data['name'])\n",
        "    crew=movie_data[1]['crew']\n",
        "    crew\n",
        "    director=[]\n",
        "    for c in crew:\n",
        "        if c['job']=='Director':\n",
        "            director.append(c['name'])\n",
        "            break\n",
        "    genres=[]\n",
        "    for x in movie_data[0]['genres']:\n",
        "        genres.append(x['name'])\n",
        "    keywords=[]\n",
        "    for k in movie_data[2]['keywords']:\n",
        "        keywords.append(k['name'])\n",
        "    d=str(cast)+' '+str(keywords)+' '+str(genres)+' '+director[0]+' '+str(movie_data[0]['overview'])\n",
        "    return d\n",
        "def get_recommendations(title):\n",
        "    movie_data=get_data(title)\n",
        "    total_data=getcomb(movie_data)\n",
        "    df2=pd.read_csv(\"Main_data.csv\")\n",
        "    df2['comb']=df2['cast']+' '+df2['director']+' '+df2['genres']+' '+df2['keywords']+' '+df2['overview']\n",
        "    myseries=pd.Series(data=[total_data,title],index=['comb','title_x'])\n",
        "    flag=0\n",
        "    for i in df2['title_x']:\n",
        "        if i==title:\n",
        "            flag=1\n",
        "            break;\n",
        "    if flag==0:\n",
        "        df2=df2.append(myseries,ignore_index=True)\n",
        "    df2=df2.replace(np.nan,'')\n",
        "    tfidf = TfidfVectorizer(stop_words='english')\n",
        "    count_matrix = tfidf.fit_transform(df2['comb'])\n",
        "    cosine_sim = cosine_similarity(count_matrix, count_matrix)\n",
        "    indices = pd.Series(df2.index, index=df2['title_x'])\n",
        "    idx=indices[title]\n",
        "    sim_scores = list(enumerate(cosine_sim[idx]))\n",
        "    sim_scores = sorted(sim_scores, key=lambda x: x[1], reverse=True)\n",
        "    sim_scores = sim_scores[1:20]\n",
        "    movie_indices = [i[0] for i in sim_scores]\n",
        "    return df2['title_x'].iloc[movie_indices]\n",
        "val=get_recommendations(\"The Lion King\")\n",
        "\n",
        "\n"
      ],
      "execution_count": null,
      "outputs": []
    },
    {
      "cell_type": "code",
      "metadata": {
        "id": "UK55rwk1By9G",
        "colab": {
          "base_uri": "https://localhost:8080/"
        },
        "outputId": "488b18a3-5827-4f84-d9db-8862ff689e5f"
      },
      "source": [
        "val"
      ],
      "execution_count": null,
      "outputs": [
        {
          "output_type": "execute_result",
          "data": {
            "text/plain": [
              "1549              The Addams Family\n",
              "1245                     Colombiana\n",
              "2048                   Darling Lili\n",
              "3309            Rumble in the Bronx\n",
              "3938           DysFunktional Family\n",
              "1807                        Flipper\n",
              "509                      Madagascar\n",
              "2886                           Duma\n",
              "4094       Alexander's Ragtime Band\n",
              "3857                   Wicked Blood\n",
              "3087              Nicholas Nickleby\n",
              "4181         Ed and His Dead Mother\n",
              "897                  Deck the Halls\n",
              "1279                   Stormbreaker\n",
              "2883                         Stoker\n",
              "3811          A Man for All Seasons\n",
              "4296            You Can Count on Me\n",
              "1934                Say It Isn't So\n",
              "1746    Welcome Home Roscoe Jenkins\n",
              "Name: title_x, dtype: object"
            ]
          },
          "metadata": {
            "tags": []
          },
          "execution_count": 132
        }
      ]
    },
    {
      "cell_type": "code",
      "metadata": {
        "id": "RrxCIdQ5_6t-",
        "colab": {
          "base_uri": "https://localhost:8080/"
        },
        "outputId": "726a08f5-d96d-4891-8d01-104aa21a6cb0"
      },
      "source": [
        "val"
      ],
      "execution_count": null,
      "outputs": [
        {
          "output_type": "execute_result",
          "data": {
            "text/plain": [
              "3                         The Dark Knight Rises\n",
              "119                               Batman Begins\n",
              "3854    Batman: The Dark Knight Returns, Part 2\n",
              "299                              Batman Forever\n",
              "428                              Batman Returns\n",
              "1359                                     Batman\n",
              "210                              Batman & Robin\n",
              "205          Sherlock Holmes: A Game of Shadows\n",
              "9            Batman v Superman: Dawn of Justice\n",
              "1196                               The Prestige\n",
              "1720                                   Kick-Ass\n",
              "3068                                Rescue Dawn\n",
              "2507                                  Slow Burn\n",
              "879                         Law Abiding Citizen\n",
              "1433                          The Four Feathers\n",
              "1658        The Imaginarium of Doctor Parnassus\n",
              "72                                Suicide Squad\n",
              "4135            Gangster's Paradise: Jerusalema\n",
              "1001      Street Fighter: The Legend of Chun-Li\n",
              "Name: title_x, dtype: object"
            ]
          },
          "metadata": {
            "tags": []
          },
          "execution_count": 26
        }
      ]
    },
    {
      "cell_type": "code",
      "metadata": {
        "id": "uZ0E9yJr8Y5E"
      },
      "source": [
        "def get_data2(x):\n",
        "    data=[]\n",
        "    result=tmdb_movie.search(x)\n",
        "    movie_id=result[0].id\n",
        "    response=requests.get(\"https://api.themoviedb.org/3/movie/{}?api_key="your-Api"\".format(movie_id))\n",
        "    data_json = response.json()\n",
        "    data.append(data_json)\n",
        "    return data"
      ],
      "execution_count": null,
      "outputs": []
    },
    {
      "cell_type": "code",
      "metadata": {
        "id": "tT6uK-cf3sOA"
      },
      "source": [
        "data=get_data2(\"Avatar\")\n",
        "data[0]"
      ],
      "execution_count": null,
      "outputs": []
    },
    {
      "cell_type": "code",
      "metadata": {
        "id": "Iwk6gRvj8wBE"
      },
      "source": [
        "val=list(val)\n",
        "val\n",
        "result=[]\n",
        "for i in val:\n",
        "    res=get_data2(i)\n",
        "    result.append(res[0])"
      ],
      "execution_count": null,
      "outputs": []
    },
    {
      "cell_type": "code",
      "metadata": {
        "id": "T_IK2igA9Ceb"
      },
      "source": [
        "result"
      ],
      "execution_count": null,
      "outputs": []
    },
    {
      "cell_type": "code",
      "metadata": {
        "id": "w21Ret4X9_S7"
      },
      "source": [
        "data=[]\n",
        "for i in df2['title_x']:\n",
        "    data.append(i)"
      ],
      "execution_count": null,
      "outputs": []
    },
    {
      "cell_type": "code",
      "metadata": {
        "id": "ACJsxgMC-Idz"
      },
      "source": [
        "total_data=[total_data]\n"
      ],
      "execution_count": null,
      "outputs": []
    },
    {
      "cell_type": "markdown",
      "metadata": {
        "id": "QsFZnEDyXrFa"
      },
      "source": [
        "# **Movie Review Sentiment** **Analysis**"
      ]
    },
    {
      "cell_type": "code",
      "metadata": {
        "id": "wQS5QF25_LJp"
      },
      "source": [
        "def getreview(x):\n",
        "    data=[]\n",
        "    result=tmdb_movie.search(x)\n",
        "    movie_id=result[0].id\n",
        "    response=requests.get(\"https://api.themoviedb.org/3/movie/{}/reviews?api_key="your-api"&language=en-US&page=1\".format(movie_id))\n",
        "    data_json=response.json()\n",
        "    data.append(data_json)\n",
        "    return data\n",
        "reviews=getreview(\"The Dark Knight\")"
      ],
      "execution_count": null,
      "outputs": []
    },
    {
      "cell_type": "code",
      "metadata": {
        "id": "cPaUR11sAI1Y"
      },
      "source": [
        "reviews[0]['results']"
      ],
      "execution_count": null,
      "outputs": []
    },
    {
      "cell_type": "code",
      "metadata": {
        "id": "KNYTcG-7AgIJ"
      },
      "source": [
        "content=[]\n",
        "for i in reviews[0]['results']:\n",
        "    content.append(i['content'])"
      ],
      "execution_count": null,
      "outputs": []
    },
    {
      "cell_type": "code",
      "metadata": {
        "id": "KZXdSQIyArSY"
      },
      "source": [
        "for i in content:\n",
        "    print(i)"
      ],
      "execution_count": null,
      "outputs": []
    },
    {
      "cell_type": "code",
      "metadata": {
        "id": "Ukz5DTWWJdA7"
      },
      "source": [
        "import pandas as pd\n",
        "import numpy as np\n",
        "import nltk\n",
        "from nltk.corpus import stopwords\n",
        "from sklearn.feature_extraction.text import TfidfVectorizer\n",
        "from sklearn.model_selection import train_test_split\n",
        "from sklearn import naive_bayes\n",
        "from sklearn.metrics import roc_auc_score,accuracy_score\n",
        "import pickle"
      ],
      "execution_count": null,
      "outputs": []
    },
    {
      "cell_type": "code",
      "metadata": {
        "colab": {
          "base_uri": "https://localhost:8080/"
        },
        "id": "3RHFP3j8J-MJ",
        "outputId": "e4d77403-bed2-46c3-c101-776820749535"
      },
      "source": [
        "nltk.download(\"stopwords\")\n",
        "stopset = set(stopwords.words('english'))"
      ],
      "execution_count": null,
      "outputs": [
        {
          "output_type": "stream",
          "text": [
            "[nltk_data] Downloading package stopwords to /root/nltk_data...\n",
            "[nltk_data]   Package stopwords is already up-to-date!\n"
          ],
          "name": "stdout"
        }
      ]
    },
    {
      "cell_type": "code",
      "metadata": {
        "id": "bEul4HX3KE6w"
      },
      "source": [
        "vectorizer = TfidfVectorizer(use_idf = True,lowercase = True, strip_accents='ascii',stop_words=stopset)"
      ],
      "execution_count": null,
      "outputs": []
    },
    {
      "cell_type": "code",
      "metadata": {
        "id": "wF9HBjVlOYOD"
      },
      "source": [
        "#vectorizer=pickle.load(open(\"/content/tranform.pkl\", 'rb'))\n"
      ],
      "execution_count": null,
      "outputs": []
    },
    {
      "cell_type": "markdown",
      "metadata": {
        "id": "FTn1D9ehOunZ"
      },
      "source": [
        ""
      ]
    },
    {
      "cell_type": "code",
      "metadata": {
        "id": "RrQeps8pVfFa"
      },
      "source": [
        "rev=pd.read_csv(\"/content/IMDB Dataset.csv\")"
      ],
      "execution_count": null,
      "outputs": []
    },
    {
      "cell_type": "code",
      "metadata": {
        "colab": {
          "base_uri": "https://localhost:8080/",
          "height": 415
        },
        "id": "NVt5gGESVqA7",
        "outputId": "29c1bcf1-60c4-4dca-ba35-96c3dd678572"
      },
      "source": [
        "rev"
      ],
      "execution_count": null,
      "outputs": [
        {
          "output_type": "execute_result",
          "data": {
            "text/html": [
              "<div>\n",
              "<style scoped>\n",
              "    .dataframe tbody tr th:only-of-type {\n",
              "        vertical-align: middle;\n",
              "    }\n",
              "\n",
              "    .dataframe tbody tr th {\n",
              "        vertical-align: top;\n",
              "    }\n",
              "\n",
              "    .dataframe thead th {\n",
              "        text-align: right;\n",
              "    }\n",
              "</style>\n",
              "<table border=\"1\" class=\"dataframe\">\n",
              "  <thead>\n",
              "    <tr style=\"text-align: right;\">\n",
              "      <th></th>\n",
              "      <th>review</th>\n",
              "      <th>sentiment</th>\n",
              "    </tr>\n",
              "  </thead>\n",
              "  <tbody>\n",
              "    <tr>\n",
              "      <th>0</th>\n",
              "      <td>One of the other reviewers has mentioned that ...</td>\n",
              "      <td>positive</td>\n",
              "    </tr>\n",
              "    <tr>\n",
              "      <th>1</th>\n",
              "      <td>A wonderful little production. &lt;br /&gt;&lt;br /&gt;The...</td>\n",
              "      <td>positive</td>\n",
              "    </tr>\n",
              "    <tr>\n",
              "      <th>2</th>\n",
              "      <td>I thought this was a wonderful way to spend ti...</td>\n",
              "      <td>positive</td>\n",
              "    </tr>\n",
              "    <tr>\n",
              "      <th>3</th>\n",
              "      <td>Basically there's a family where a little boy ...</td>\n",
              "      <td>negative</td>\n",
              "    </tr>\n",
              "    <tr>\n",
              "      <th>4</th>\n",
              "      <td>Petter Mattei's \"Love in the Time of Money\" is...</td>\n",
              "      <td>positive</td>\n",
              "    </tr>\n",
              "    <tr>\n",
              "      <th>...</th>\n",
              "      <td>...</td>\n",
              "      <td>...</td>\n",
              "    </tr>\n",
              "    <tr>\n",
              "      <th>49995</th>\n",
              "      <td>I thought this movie did a down right good job...</td>\n",
              "      <td>positive</td>\n",
              "    </tr>\n",
              "    <tr>\n",
              "      <th>49996</th>\n",
              "      <td>Bad plot, bad dialogue, bad acting, idiotic di...</td>\n",
              "      <td>negative</td>\n",
              "    </tr>\n",
              "    <tr>\n",
              "      <th>49997</th>\n",
              "      <td>I am a Catholic taught in parochial elementary...</td>\n",
              "      <td>negative</td>\n",
              "    </tr>\n",
              "    <tr>\n",
              "      <th>49998</th>\n",
              "      <td>I'm going to have to disagree with the previou...</td>\n",
              "      <td>negative</td>\n",
              "    </tr>\n",
              "    <tr>\n",
              "      <th>49999</th>\n",
              "      <td>No one expects the Star Trek movies to be high...</td>\n",
              "      <td>negative</td>\n",
              "    </tr>\n",
              "  </tbody>\n",
              "</table>\n",
              "<p>50000 rows × 2 columns</p>\n",
              "</div>"
            ],
            "text/plain": [
              "                                                  review sentiment\n",
              "0      One of the other reviewers has mentioned that ...  positive\n",
              "1      A wonderful little production. <br /><br />The...  positive\n",
              "2      I thought this was a wonderful way to spend ti...  positive\n",
              "3      Basically there's a family where a little boy ...  negative\n",
              "4      Petter Mattei's \"Love in the Time of Money\" is...  positive\n",
              "...                                                  ...       ...\n",
              "49995  I thought this movie did a down right good job...  positive\n",
              "49996  Bad plot, bad dialogue, bad acting, idiotic di...  negative\n",
              "49997  I am a Catholic taught in parochial elementary...  negative\n",
              "49998  I'm going to have to disagree with the previou...  negative\n",
              "49999  No one expects the Star Trek movies to be high...  negative\n",
              "\n",
              "[50000 rows x 2 columns]"
            ]
          },
          "metadata": {
            "tags": []
          },
          "execution_count": 312
        }
      ]
    },
    {
      "cell_type": "code",
      "metadata": {
        "id": "xSV7hDqzVtju"
      },
      "source": [
        "X = vectorizer.fit_transform(rev.review)\n",
        "y = rev.sentiment\n",
        "vector = 'vectorizerer.pkl'\n",
        "pickle.dump(vectorizer, open(vector, 'wb'))"
      ],
      "execution_count": null,
      "outputs": []
    },
    {
      "cell_type": "code",
      "metadata": {
        "id": "UE_HVGfGV1Rk"
      },
      "source": [
        "X_train, X_test, y_train, y_test = train_test_split(X, y, test_size=0.20, random_state=42)"
      ],
      "execution_count": null,
      "outputs": []
    },
    {
      "cell_type": "code",
      "metadata": {
        "colab": {
          "base_uri": "https://localhost:8080/"
        },
        "id": "JkpM-_iXZlCj",
        "outputId": "550581a7-7e72-4fa7-943c-73f5bf9f5439"
      },
      "source": [
        "from sklearn import tree\n",
        "dt = tree.DecisionTreeClassifier()\n",
        "dt.fit(X_train, y_train)"
      ],
      "execution_count": null,
      "outputs": [
        {
          "output_type": "execute_result",
          "data": {
            "text/plain": [
              "DecisionTreeClassifier(ccp_alpha=0.0, class_weight=None, criterion='gini',\n",
              "                       max_depth=None, max_features=None, max_leaf_nodes=None,\n",
              "                       min_impurity_decrease=0.0, min_impurity_split=None,\n",
              "                       min_samples_leaf=1, min_samples_split=2,\n",
              "                       min_weight_fraction_leaf=0.0, presort='deprecated',\n",
              "                       random_state=None, splitter='best')"
            ]
          },
          "metadata": {
            "tags": []
          },
          "execution_count": 323
        }
      ]
    },
    {
      "cell_type": "code",
      "metadata": {
        "id": "Jxw_1IYdeRJR"
      },
      "source": [
        "from sklearn.cluster import KMeans\n",
        "kmeans = KMeans(n_clusters=2, random_state=0).fit(X_train,y_train)"
      ],
      "execution_count": null,
      "outputs": []
    },
    {
      "cell_type": "code",
      "metadata": {
        "colab": {
          "base_uri": "https://localhost:8080/"
        },
        "id": "lwY3AvT1dZ2O",
        "outputId": "5defe198-658a-4792-dd72-d049ba84f5cf"
      },
      "source": [
        "kmeans.predict(X_test)"
      ],
      "execution_count": null,
      "outputs": [
        {
          "output_type": "execute_result",
          "data": {
            "text/plain": [
              "array([1, 0, 0, ..., 1, 1, 1], dtype=int32)"
            ]
          },
          "metadata": {
            "tags": []
          },
          "execution_count": 334
        }
      ]
    },
    {
      "cell_type": "code",
      "metadata": {
        "colab": {
          "base_uri": "https://localhost:8080/"
        },
        "id": "0siRI3uHWB9L",
        "outputId": "cadeec38-6454-4164-d019-469a51b39905"
      },
      "source": [
        "plf = naive_bayes.ComplementNB()\n",
        "plf.fit(X_train,y_train)"
      ],
      "execution_count": null,
      "outputs": [
        {
          "output_type": "execute_result",
          "data": {
            "text/plain": [
              "ComplementNB(alpha=1.0, class_prior=None, fit_prior=True, norm=False)"
            ]
          },
          "metadata": {
            "tags": []
          },
          "execution_count": 36
        }
      ]
    },
    {
      "cell_type": "code",
      "metadata": {
        "colab": {
          "base_uri": "https://localhost:8080/"
        },
        "id": "Rr0YLLE2WIfJ",
        "outputId": "dc09ac6a-b17d-410a-b18d-33dc2e07cc7c"
      },
      "source": [
        "plf = naive_bayes.ComplementNB()\n",
        "plf.fit(X,y)"
      ],
      "execution_count": null,
      "outputs": [
        {
          "output_type": "execute_result",
          "data": {
            "text/plain": [
              "ComplementNB(alpha=1.0, class_prior=None, fit_prior=True, norm=False)"
            ]
          },
          "metadata": {
            "tags": []
          },
          "execution_count": 37
        }
      ]
    },
    {
      "cell_type": "code",
      "metadata": {
        "colab": {
          "base_uri": "https://localhost:8080/"
        },
        "id": "-foU_ZbVWQ-i",
        "outputId": "5eaf10a7-9b67-4ff5-b407-309839f5f685"
      },
      "source": [
        "accuracy_score(y_test,plf.predict(X_test))*100\n"
      ],
      "execution_count": null,
      "outputs": [
        {
          "output_type": "execute_result",
          "data": {
            "text/plain": [
              "90.48"
            ]
          },
          "metadata": {
            "tags": []
          },
          "execution_count": 40
        }
      ]
    },
    {
      "cell_type": "code",
      "metadata": {
        "id": "MknxZiK-XKMS"
      },
      "source": [
        "filename = 'nlp_model.pkl'\n",
        "pickle.dump(plf, open(filename, 'wb'))"
      ],
      "execution_count": null,
      "outputs": []
    },
    {
      "cell_type": "code",
      "metadata": {
        "id": "_jM_-gkUWXJg"
      },
      "source": [
        "predict=plf.predict(vectorizer.transform([\"best movie\"]))"
      ],
      "execution_count": null,
      "outputs": []
    },
    {
      "cell_type": "code",
      "metadata": {
        "colab": {
          "base_uri": "https://localhost:8080/"
        },
        "id": "gpat3gLMWciZ",
        "outputId": "7f002516-b0eb-4ab2-b431-66e1f61b633d"
      },
      "source": [
        "predict"
      ],
      "execution_count": null,
      "outputs": [
        {
          "output_type": "execute_result",
          "data": {
            "text/plain": [
              "array(['positive'], dtype='<U8')"
            ]
          },
          "metadata": {
            "tags": []
          },
          "execution_count": 57
        }
      ]
    },
    {
      "cell_type": "code",
      "metadata": {
        "id": "8hl7B90ZZwYv"
      },
      "source": [
        "vectorizer=pkl.load(open('/content/vectorizerer.pkl', 'rb'))\n",
        "#vectorizer = TfidfVectorizer(use_idf = True,lowercase = True, strip_accents='ascii',stop_words=stopset)\n",
        "clt=pkl.load(open('/content/nlp_model.pkl', 'rb'))"
      ],
      "execution_count": null,
      "outputs": []
    },
    {
      "cell_type": "code",
      "metadata": {
        "id": "JTFxqW6QWsh3"
      },
      "source": [
        "def getreview(x):\n",
        "    data=[]\n",
        "    result=tmdb_movie.search(x)\n",
        "    movie_id=result[0].id\n",
        "    response=requests.get(\"https://api.themoviedb.org/3/movie/{}/reviews?api_key=8b5da40bcd2b5fa4afe55c468001ad8a&language=en-US&page=1\".format(movie_id))\n",
        "    data_json=response.json()\n",
        "    data.append(data_json)\n",
        "    return data\n",
        "movie_review=[]\n",
        "def getrating(title):\n",
        "    data=getreview(title)\n",
        "    for i in data[0]['results']:\n",
        "        pred=clt.predict(vectorizer.transform([i['content']]))\n",
        "        if pred[0]=='positive':\n",
        "            movie_review.append([i['content'],'GOOD'])\n",
        "        else:\n",
        "            movie_review.append([i['content'],'BAD'])\n",
        "getrating(\"Avatar\")"
      ],
      "execution_count": null,
      "outputs": []
    },
    {
      "cell_type": "code",
      "metadata": {
        "colab": {
          "base_uri": "https://localhost:8080/"
        },
        "id": "lxb2NmzEWxKx",
        "outputId": "9d822a10-212f-499d-ff06-bff9684fadf8"
      },
      "source": [
        "movie_review"
      ],
      "execution_count": null,
      "outputs": [
        {
          "output_type": "execute_result",
          "data": {
            "text/plain": [
              "[['Avatar is an overwhelming, immersive spectacle. The state-of-the-art 3D technology draws us in, but it is the vivid weirdness of Cameron\\'s luridly imagined tropical other world that keeps us fascinated. I like this film and I have written many review for <a href=\"https://domywriting.com/\">essay writing service</a>. The special effects are so good here that you don\\'t even notice them. It is eerie how Cameron has made it look and feel like he is just pointing a camera at the action.',\n",
              "  'GOOD'],\n",
              " ['It\\'s cinema Jim, but not as we know it. \\r\\n\\r\\nSo here it is then, what has been in gestation in James Cameron\\'s mind for over 12 years finally hit the silver screen towards the back end of 2009. Made for gazillions amount of cash, Avatar went on to make a billion trillion in Worldwide receipts-and this before the rush rush release of DVD/BLU RAY sales are factored into the equation. The film, and all its technical wizardry, is quite simply a gargantuan piece of cinematic history. Released in 2d and 3d, and probably some other format that I\\'m forgetting, every advanced tool of the trade has been utilised by Cameron and his team to create what is now the ultimate popcorn blockbuster. Shame then, that away from the visual extravaganza the film is as shallow as this review will ultimately end up being.\\r\\n\\r\\nNo doubt about it, this is a joy for the eyes and ears, the minuscule details are wonderful and the colour positively pings from every frame. But in the eagerness to create such splendour they forgot to put any substance into the writing. This is plot simplicity. And even its messages, as Cameron smugly preaches his sermon from the pulpit, now seem old hat. Do we really need another boink over the head about eco invasion? Or a curt reminder of American infiltration into some land where motives are suspicious at best? No we don\\'t really do we? Worse still is some of the dialogue, which quite frankly could have come from some playground encounter as the kiddies play kiss chase or bang bang your dead army. There\\'s also a sense of familiarity with other better scripted film\\'s, Dances *cough* With *cough* Wolves *cough* It\\'s as if Cameron just knew that narrative structure wasn\\'t as important as having the expensive gimmicks. He\\'s like a modern day William Castle-only with considerably more readies at his disposal.\\r\\n\\r\\nThe cast are OK, Zoe Saldana puts a sexy feistiness to her blue alien Neytiri, Sam Worthington keeps the humanistic elements just about above water, while Sigourney Weaver is as ever the consummate professional. But ironically, in a film shimmering bright in 2d & 3d, the characters are all one dimensional. None more so than Stephen \"The Party Crasher\" Lang\\'s Colonel. A man so gruff and gung-ho menacing he really ought to be in Sly Stallone\\'s upcoming testo movie The Expendables. Nominated for nine Academy Awards, including Best Picture and Best Director, it won three, for Best Cinematography, Best Visual Effects, and Best Art Direction. Those were richly deserved. They also tell us all we need to now about Cameron\\'s Behemoth. 5/10',\n",
              "  'GOOD']]"
            ]
          },
          "metadata": {
            "tags": []
          },
          "execution_count": 92
        }
      ]
    }
  ]
}
